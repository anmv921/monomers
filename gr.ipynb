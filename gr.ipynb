{
 "cells": [
  {
   "cell_type": "code",
   "execution_count": 128,
   "id": "b7b118b9",
   "metadata": {},
   "outputs": [],
   "source": [
    "import numpy as np\n",
    "import matplotlib.pyplot as plt\n",
    "from time import time\n",
    "from numba import njit\n",
    "from matplotlib import colors\n",
    "import seaborn as sns\n",
    "from scipy.special import iv\n",
    "plt.style.use(\"seaborn-bright\")\n",
    "from numpy.random import random as rng\n",
    "from numpy import sqrt, pi, exp, log, sin, cos, arange, linspace, zeros, ones\n",
    "from mpl_toolkits.mplot3d import Axes3D\n",
    "from scipy.signal import correlate, correlation_lags\n",
    "plt.rcParams[\"lines.markerfacecolor\"] = \"none\"\n",
    "plt.rcParams['axes.xmargin'] = 0.1\n",
    "plt.rcParams['axes.ymargin'] = 0.1\n",
    "from matplotlib.pyplot import xlabel, ylabel, savefig, show, tight_layout, title, plot, scatter\n",
    "from matplotlib.pyplot import hist, loglog, semilogy, semilogx, plot, show, legend, axhline\n",
    "from matplotlib.pyplot import xlim, ylim, gca\n",
    "from mpl_toolkits.mplot3d import Axes3D\n",
    "from numpy import vectorize, loadtxt\n",
    "import pandas as pd"
   ]
  },
  {
   "cell_type": "code",
   "execution_count": 2,
   "id": "8c023fae",
   "metadata": {},
   "outputs": [
    {
     "name": "stdout",
     "output_type": "stream",
     "text": [
      "t=100 string exists in file\n",
      "Line Number: 16020001\n",
      "Line: Lattice=\"73 0.0 0.0 0.0 73 0.0 0.0 0.0 0.0\" Origin=\"0 0 0.0\" Properties=pos:R:2:Radius:R:1:Type:S:1:Identifier:I:1:Pressure:R:1 t=100\n",
      "\n"
     ]
    }
   ],
   "source": [
    "word = 't=100'\n",
    "filename = r\"C:\\Users\\andriy\\Desktop\\monomers\\N\\1600\\samples\\1\\ovito.xyz\"\n",
    "with open(filename, 'r') as fp:\n",
    "    # read all lines in a list\n",
    "    lines = fp.readlines()\n",
    "    for line in lines:\n",
    "        # check if string present on a current line\n",
    "        if line.find(word) != -1:\n",
    "            print(word, 'string exists in file')\n",
    "            print('Line Number:', lines.index(line))\n",
    "            print('Line:', line)"
   ]
  },
  {
   "cell_type": "code",
   "execution_count": 3,
   "id": "59c31eec",
   "metadata": {},
   "outputs": [],
   "source": [
    "df = pd.read_csv(filename, sep=\"\\t\", skiprows=16020002,\n",
    "                 names=[\"x\", \"y\", \"r\", \"t\", \"i\", \"p\"], index_col=False)"
   ]
  },
  {
   "cell_type": "code",
   "execution_count": 7,
   "id": "27091b71",
   "metadata": {},
   "outputs": [
    {
     "data": {
      "text/html": [
       "<div>\n",
       "<style scoped>\n",
       "    .dataframe tbody tr th:only-of-type {\n",
       "        vertical-align: middle;\n",
       "    }\n",
       "\n",
       "    .dataframe tbody tr th {\n",
       "        vertical-align: top;\n",
       "    }\n",
       "\n",
       "    .dataframe thead th {\n",
       "        text-align: right;\n",
       "    }\n",
       "</style>\n",
       "<table border=\"1\" class=\"dataframe\">\n",
       "  <thead>\n",
       "    <tr style=\"text-align: right;\">\n",
       "      <th></th>\n",
       "      <th>x</th>\n",
       "      <th>y</th>\n",
       "      <th>r</th>\n",
       "      <th>t</th>\n",
       "      <th>i</th>\n",
       "      <th>p</th>\n",
       "    </tr>\n",
       "  </thead>\n",
       "  <tbody>\n",
       "    <tr>\n",
       "      <th>0</th>\n",
       "      <td>-0.917853</td>\n",
       "      <td>1.30120</td>\n",
       "      <td>0.5</td>\n",
       "      <td>3</td>\n",
       "      <td>0</td>\n",
       "      <td>0.012573</td>\n",
       "    </tr>\n",
       "    <tr>\n",
       "      <th>1</th>\n",
       "      <td>0.912705</td>\n",
       "      <td>1.08292</td>\n",
       "      <td>0.5</td>\n",
       "      <td>3</td>\n",
       "      <td>1</td>\n",
       "      <td>0.884717</td>\n",
       "    </tr>\n",
       "    <tr>\n",
       "      <th>2</th>\n",
       "      <td>-4.433360</td>\n",
       "      <td>6.90192</td>\n",
       "      <td>0.5</td>\n",
       "      <td>3</td>\n",
       "      <td>2</td>\n",
       "      <td>0.252317</td>\n",
       "    </tr>\n",
       "    <tr>\n",
       "      <th>3</th>\n",
       "      <td>3.559460</td>\n",
       "      <td>6.11840</td>\n",
       "      <td>0.5</td>\n",
       "      <td>3</td>\n",
       "      <td>3</td>\n",
       "      <td>0.588062</td>\n",
       "    </tr>\n",
       "    <tr>\n",
       "      <th>4</th>\n",
       "      <td>2.641580</td>\n",
       "      <td>8.68478</td>\n",
       "      <td>0.5</td>\n",
       "      <td>3</td>\n",
       "      <td>4</td>\n",
       "      <td>8.236060</td>\n",
       "    </tr>\n",
       "  </tbody>\n",
       "</table>\n",
       "</div>"
      ],
      "text/plain": [
       "          x        y    r  t  i         p\n",
       "0 -0.917853  1.30120  0.5  3  0  0.012573\n",
       "1  0.912705  1.08292  0.5  3  1  0.884717\n",
       "2 -4.433360  6.90192  0.5  3  2  0.252317\n",
       "3  3.559460  6.11840  0.5  3  3  0.588062\n",
       "4  2.641580  8.68478  0.5  3  4  8.236060"
      ]
     },
     "execution_count": 7,
     "metadata": {},
     "output_type": "execute_result"
    }
   ],
   "source": [
    "df.head()"
   ]
  },
  {
   "cell_type": "code",
   "execution_count": 19,
   "id": "961b90ca",
   "metadata": {},
   "outputs": [
    {
     "data": {
      "text/html": [
       "<div>\n",
       "<style scoped>\n",
       "    .dataframe tbody tr th:only-of-type {\n",
       "        vertical-align: middle;\n",
       "    }\n",
       "\n",
       "    .dataframe tbody tr th {\n",
       "        vertical-align: top;\n",
       "    }\n",
       "\n",
       "    .dataframe thead th {\n",
       "        text-align: right;\n",
       "    }\n",
       "</style>\n",
       "<table border=\"1\" class=\"dataframe\">\n",
       "  <thead>\n",
       "    <tr style=\"text-align: right;\">\n",
       "      <th></th>\n",
       "      <th>x</th>\n",
       "      <th>y</th>\n",
       "      <th>r</th>\n",
       "      <th>t</th>\n",
       "      <th>i</th>\n",
       "      <th>p</th>\n",
       "    </tr>\n",
       "  </thead>\n",
       "  <tbody>\n",
       "    <tr>\n",
       "      <th>1595</th>\n",
       "      <td>75.2506</td>\n",
       "      <td>63.7584</td>\n",
       "      <td>0.5</td>\n",
       "      <td>3</td>\n",
       "      <td>1595</td>\n",
       "      <td>1.177550</td>\n",
       "    </tr>\n",
       "    <tr>\n",
       "      <th>1596</th>\n",
       "      <td>73.0730</td>\n",
       "      <td>64.9926</td>\n",
       "      <td>0.5</td>\n",
       "      <td>3</td>\n",
       "      <td>1596</td>\n",
       "      <td>0.258556</td>\n",
       "    </tr>\n",
       "    <tr>\n",
       "      <th>1597</th>\n",
       "      <td>67.7119</td>\n",
       "      <td>68.2435</td>\n",
       "      <td>0.5</td>\n",
       "      <td>3</td>\n",
       "      <td>1597</td>\n",
       "      <td>0.385839</td>\n",
       "    </tr>\n",
       "    <tr>\n",
       "      <th>1598</th>\n",
       "      <td>77.9106</td>\n",
       "      <td>76.4187</td>\n",
       "      <td>0.5</td>\n",
       "      <td>3</td>\n",
       "      <td>1598</td>\n",
       "      <td>2.570300</td>\n",
       "    </tr>\n",
       "    <tr>\n",
       "      <th>1599</th>\n",
       "      <td>70.0534</td>\n",
       "      <td>72.3313</td>\n",
       "      <td>0.5</td>\n",
       "      <td>3</td>\n",
       "      <td>1599</td>\n",
       "      <td>0.000000</td>\n",
       "    </tr>\n",
       "  </tbody>\n",
       "</table>\n",
       "</div>"
      ],
      "text/plain": [
       "            x        y    r  t     i         p\n",
       "1595  75.2506  63.7584  0.5  3  1595  1.177550\n",
       "1596  73.0730  64.9926  0.5  3  1596  0.258556\n",
       "1597  67.7119  68.2435  0.5  3  1597  0.385839\n",
       "1598  77.9106  76.4187  0.5  3  1598  2.570300\n",
       "1599  70.0534  72.3313  0.5  3  1599  0.000000"
      ]
     },
     "execution_count": 19,
     "metadata": {},
     "output_type": "execute_result"
    }
   ],
   "source": [
    "df.tail()"
   ]
  },
  {
   "cell_type": "code",
   "execution_count": 25,
   "id": "f542cf41",
   "metadata": {},
   "outputs": [],
   "source": [
    "x = df[\"x\"].values\n",
    "y = df[\"y\"].values"
   ]
  },
  {
   "cell_type": "code",
   "execution_count": 26,
   "id": "8c068f8f",
   "metadata": {},
   "outputs": [
    {
     "data": {
      "text/plain": [
       "[<matplotlib.lines.Line2D at 0x13d03b5a760>]"
      ]
     },
     "execution_count": 26,
     "metadata": {},
     "output_type": "execute_result"
    },
    {
     "data": {
      "image/png": "[encoded data removed]",
      "text/plain": [
       "<Figure size 432x288 with 1 Axes>"
      ]
     },
     "metadata": {
      "needs_background": "light"
     },
     "output_type": "display_data"
    }
   ],
   "source": [
    "plot(x, y, \".\", mfc=\"C0\")"
   ]
  },
  {
   "cell_type": "code",
   "execution_count": 121,
   "id": "dca359f1",
   "metadata": {},
   "outputs": [],
   "source": [
    "def gr(switch, npart, ngr, nhis, box, delg, rho, g, arr_r):\n",
    "    \"\"\"\n",
    "    Radial distribution function\n",
    "    @In switch - 0 initialization, 1 sample, 2 results\n",
    "    \"\"\"\n",
    "    # TODO .py file and args\n",
    "    if switch==0:\n",
    "        npart = len(x)\n",
    "        ngr = 0\n",
    "        nhis = 1000 # Total number of bins\n",
    "        box = 73\n",
    "        delg = box / (2*nhis) # Bin size\n",
    "        rho = npart / (box*box)\n",
    "        g = zeros(nhis)\n",
    "        arr_r = zeros(nhis)\n",
    "    elif switch==1:\n",
    "        ngr += 1\n",
    "        for i in range(npart):\n",
    "            for j in range(i+1, npart):\n",
    "                xr = x[i] - x[j]\n",
    "                yr = y[i] - y[j]\n",
    "                xr -= box*round(xr/box)\n",
    "                yr -= box*round(yr/box)\n",
    "                r = sqrt(xr**2 + yr**2)\n",
    "                if r < box/2:\n",
    "                    ig = int(r/delg)\n",
    "                    g[ig] += 2\n",
    "    elif switch==2:\n",
    "        for i in range(nhis):\n",
    "            r = delg * (i+0.5) # Distance r\n",
    "            arr_r[i] = r\n",
    "            vb =  delg * r # Volume between bin i+i and i\n",
    "            nid = 2 * pi * vb * rho # Number of ideal gas part, in vb\n",
    "            #print(npart, nid, ngr)\n",
    "            g[i] /= (ngr * npart * nid) # Normalize g(r)\n",
    "    #print(npart, ngr, nhis, box, delg, rho, g, arr_r)\n",
    "    return npart, ngr, nhis, box, delg, rho, g, arr_r"
   ]
  },
  {
   "cell_type": "code",
   "execution_count": 122,
   "id": "73a22016",
   "metadata": {},
   "outputs": [],
   "source": [
    "# Init\n",
    "npart = None \n",
    "ngr = None \n",
    "nhis = None \n",
    "box = None \n",
    "delg = None \n",
    "rho = None \n",
    "g = None \n",
    "arr_r = None \n",
    "\n",
    "# Get gr\n",
    "npart, ngr, nhis, box, delg, rho, g, arr_r = gr(0, npart, ngr, nhis, box, delg, rho, g, arr_r)\n",
    "npart, ngr, nhis, box, delg, rho, g, arr_r = gr(1, npart, ngr, nhis, box, delg, rho, g, arr_r)\n",
    "npart, ngr, nhis, box, delg, rho, g, arr_r = gr(2, npart, ngr, nhis, box, delg, rho, g, arr_r)"
   ]
  },
  {
   "cell_type": "code",
   "execution_count": 138,
   "id": "d96f5c0e",
   "metadata": {},
   "outputs": [
    {
     "data": {
      "image/png": "[encoded data removed]",
      "text/plain": [
       "<Figure size 432x288 with 1 Axes>"
      ]
     },
     "metadata": {
      "needs_background": "light"
     },
     "output_type": "display_data"
    }
   ],
   "source": [
    "plot(arr_r, g, \"-\")\n",
    "ylabel(\"g(r)\")\n",
    "xlabel(\"r\")\n",
    "ax = gca()\n",
    "ax.margins(0.02)\n",
    "xlim(0, 5)\n",
    "plot(arr_r, ones(len(arr_r)), c=\"grey\")\n",
    "#savefig(\"gr.jpg\", bbox_inches=\"tight\", dpi=200)"
   ]
  },
  {
   "cell_type": "code",
   "execution_count": null,
   "id": "3cfbc977",
   "metadata": {},
   "outputs": [],
   "source": []
  }
 ],
 "metadata": {
  "kernelspec": {
   "display_name": "Python 3",
   "language": "python",
   "name": "python3"
  },
  "language_info": {
   "codemirror_mode": {
    "name": "ipython",
    "version": 3
   },
   "file_extension": ".py",
   "mimetype": "text/x-python",
   "name": "python",
   "nbconvert_exporter": "python",
   "pygments_lexer": "ipython3",
   "version": "3.8.8"
  }
 },
 "nbformat": 4,
 "nbformat_minor": 5
}
